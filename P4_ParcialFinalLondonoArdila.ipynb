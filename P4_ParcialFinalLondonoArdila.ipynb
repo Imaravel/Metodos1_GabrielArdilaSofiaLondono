{
 "cells": [
  {
   "cell_type": "code",
   "execution_count": 2,
   "metadata": {},
   "outputs": [],
   "source": [
    "import pandas as pd\n",
    "from scipy import optimize\n",
    "from scipy.optimize import least_squares\n",
    "import numpy as np\n",
    "import matplotlib.pyplot as plt"
   ]
  },
  {
   "cell_type": "code",
   "execution_count": 3,
   "metadata": {},
   "outputs": [
    {
     "name": "stdout",
     "output_type": "stream",
     "text": [
      "        h  angle       y  sigmay\n",
      "20   10.0   30.0  0.0013  0.0015\n",
      "21   20.0   30.0  0.0017  0.0015\n",
      "22   30.0   30.0  0.0038  0.0015\n",
      "23   40.0   30.0  0.0059  0.0015\n",
      "24   50.0   30.0  0.0067  0.0015\n",
      "25   60.0   30.0  0.0094  0.0015\n",
      "26   70.0   30.0  0.0122  0.0015\n",
      "27   80.0   30.0  0.0132  0.0015\n",
      "28   90.0   30.0  0.0151  0.0015\n",
      "29  100.0   30.0  0.0186  0.0015\n",
      "Estimated ω: 7.204148720293115e-05\n"
     ]
    },
    {
     "data": {
      "image/png": "[encoded data removed]",
      "text/plain": [
       "<Figure size 432x288 with 1 Axes>"
      ]
     },
     "metadata": {
      "needs_background": "light"
     },
     "output_type": "display_data"
    }
   ],
   "source": [
    "df = pd.read_csv(\"DataRotacion.csv\")\n",
    "\n",
    "df = df[df['angle'] == 30] \n",
    "\n",
    "print(df)\n",
    "import math\n",
    "\n",
    "def coriolis_desviacion(h, p, lambda_, g):\n",
    "    \"\"\"\n",
    "    Calcula la desviación en el eje y debido al efecto Coriolis.\n",
    "    \n",
    "    Argumentos:\n",
    "    - h: altura inicial de caída\n",
    "    - p: parámetro de ajuste (p = ω)\n",
    "    - lambda_: latitud\n",
    "    - g: aceleración de la gravedad\n",
    "    \n",
    "    Retorna:\n",
    "    - desviacion: desviación en el eje y debido al efecto Coriolis\n",
    "    \"\"\"\n",
    "    desviacion = (2 * math.sqrt(2) / 3) * p * math.cos(math.radians(lambda_)) * math.sqrt(h / (3 * g))\n",
    "    \n",
    "    return desviacion\n",
    "\n",
    "\n",
    "# Definir la función χ^2\n",
    "def chi2(omega):\n",
    "    chi2 = 0.0\n",
    "    for i in range(len(df)):\n",
    "        h = df.loc[i, 'h']\n",
    "        y = df.loc[i, 'y']\n",
    "        sigmay = df.loc[i, 'sigmay']\n",
    "        expected_y = (2 * (omega * np.cos(np.radians(lambda_value))) * h ** (3/2)) / (3 * np.sqrt(2) * g)\n",
    "        chi2 += ((y - expected_y) / sigmay) ** 2\n",
    "    return chi2\n",
    "\n",
    "# Valores conocidos\n",
    "lambda_value = 30.0\n",
    "g = 9.81\n",
    "\n",
    "\n",
    "\n",
    "\n",
    "\n",
    "# Función objetivo\n",
    "def objective(params, data):\n",
    "    h, y, sigmay, angle, g = data\n",
    "    omega = params[0]\n",
    "    predicted_y = (2 * np.sqrt(2) / 3) * omega * np.cos(np.radians(angle)) * (h ** (3/2)) / np.sqrt(g)\n",
    "    return (y - predicted_y) / sigmay\n",
    "\n",
    "# DataFrame con los datos\n",
    "df = pd.DataFrame({\n",
    "    'h': [10.0, 20.0, 30.0, 40.0, 50.0, 60.0, 70.0, 80.0, 90.0, 100.0],\n",
    "    'angle': [30.0] * 10,\n",
    "    'y': [0.0027, 0.003, 0.0038, 0.004, 0.0067, 0.0094, 0.0122, 0.0132, 0.0151, 0.0186],\n",
    "    'sigmay': [0.0015] * 10,\n",
    "    'g': [9.81] * 10\n",
    "})\n",
    "\n",
    "# Datos de entrada para la optimización\n",
    "data = df[['h', 'y', 'sigmay', 'angle', 'g']].values.T\n",
    "\n",
    "# Valor inicial para ω\n",
    "initial_omega = 1e-5\n",
    "\n",
    "# Realizar la optimización\n",
    "result = least_squares(objective, [initial_omega], args=(data,))\n",
    "\n",
    "# Obtener el valor estimado de ω\n",
    "estimated_omega = result.x[0]\n",
    "\n",
    "print(\"Estimated ω:\", estimated_omega)\n",
    "\n",
    "\n",
    "\n",
    "# Función modelo\n",
    "def model(h, omega, angle, g):\n",
    "    return (2 * np.sqrt(2) / 3) * omega * np.cos(np.radians(angle)) * (h ** (3/2)) / np.sqrt(g)\n",
    "\n",
    "\n",
    "# Valores de altura para el modelo\n",
    "h_values = np.linspace(df['h'].min(), df['h'].max(), 100)\n",
    "\n",
    "# Valores de desviación del modelo\n",
    "model_values = model(h_values, estimated_omega, df['angle'].iloc[0], df['g'].iloc[0])\n",
    "\n",
    "# Gráfico\n",
    "plt.errorbar(df['h'], df['y'], yerr=df['sigmay'], fmt='o', label='Datos')\n",
    "plt.plot(h_values, model_values, label='Modelo')\n",
    "plt.xlabel('Altura (h)')\n",
    "plt.ylabel('Desviación (y)')\n",
    "plt.title('Modelo para λ = 30')\n",
    "plt.legend()\n",
    "plt.grid(True)\n",
    "plt.show()\n"
   ]
  },
  {
   "cell_type": "code",
   "execution_count": 4,
   "metadata": {},
   "outputs": [
    {
     "name": "stdout",
     "output_type": "stream",
     "text": [
      "    Gravity\n",
      "0  9.810215\n",
      "1  9.810121\n",
      "2  9.810860\n",
      "3  9.810473\n",
      "4  9.810234\n"
     ]
    }
   ],
   "source": [
    "\n",
    "\n",
    "# Datos experimentales\n",
    "df = pd.DataFrame({\n",
    "    'h': [10.0, 20.0, 30.0, 40.0, 50.0, 60.0, 70.0, 80.0, 90.0, 100.0],\n",
    "    'angle': [30.0] * 10,\n",
    "    'y': [0.0027, 0.003, 0.0038, 0.004, 0.0067, 0.0094, 0.0122, 0.0132, 0.0151, 0.0186],\n",
    "    'sigmay': [0.0015] * 10,\n",
    "    'g': [9.81] * 10\n",
    "})\n",
    "\n",
    "# Número de iteraciones\n",
    "N = 300\n",
    "\n",
    "# Lista para almacenar los valores remuestreados de la gravedad\n",
    "gravity_values = []\n",
    "\n",
    "# Bucle for para el remuestreo\n",
    "for i in range(N):\n",
    "    # Remuestreo de la gravedad (ejemplo: agregar un error aleatorio normalmente distribuido)\n",
    "    gravity_sampled = np.random.normal(df['g'], scale=0.001)\n",
    "    # Calcular la media del remuestreo\n",
    "    gravity_mean = np.mean(gravity_sampled)\n",
    "    # Agregar el valor a la lista\n",
    "    gravity_values.append(gravity_mean)\n",
    "\n",
    "# Convertir la lista en un DataFrame\n",
    "gravity_df = pd.DataFrame({'Gravity': gravity_values})\n",
    "\n",
    "# Imprimir el DataFrame con los valores remuestreados de la gravedad\n",
    "print(gravity_df.head())\n",
    "\n",
    "\n",
    "\n",
    "\n",
    "# Número de iteraciones para el remuestreo\n",
    "N = 300\n",
    "\n",
    "# Array para almacenar los valores de gravedad\n",
    "Gravedad = np.zeros(N)\n",
    "\n",
    "# Array para almacenar las estimaciones de la rapidez angular\n",
    "Omega = np.zeros(N)\n",
    "\n",
    "# Bucle for para realizar el remuestreo N veces\n",
    "for i in range(N):\n",
    "    # Generar un valor de gravedad siguiendo la distribución normal\n",
    "    gravedad = 9.81 + np.random.normal(loc=0, scale=1)\n",
    "    \n",
    "    # Guardar el valor de gravedad en el array Gravedad\n",
    "    Gravedad[i] = gravedad\n",
    "    \n",
    "    # Modificar los puntos experimentales mediante bootstrapping\n",
    "    df_modificado = df.copy()\n",
    "    df_modificado['y'] += np.random.normal(loc=0, scale=df['sigmay'], size=len(df))\n",
    "    \n",
    "    # Extraer los datos relevantes del DataFrame\n",
    "    h = df_modificado['h']\n",
    "    angle = df_modificado['angle']\n",
    "    y_modificado = df_modificado['y']\n",
    "    sigmay = df_modificado['sigmay']\n",
    "    \n",
    "    # Definir la función de ajuste para la optimización\n",
    "    def funcion_ajuste(omega):\n",
    "        return np.sum((model(h, omega, angle, gravedad) - y_modificado) ** 2 / sigmay ** 2)\n",
    "    \n",
    "    # Estimación inicial de la rapidez angular\n",
    "    omega_inicial = 1e-5\n",
    "    \n",
    "    # Realizar la optimización para obtener la estimación de la rapidez angular\n",
    "    resultado = optimize.minimize(funcion_ajuste, omega_inicial)\n",
    "    omega_estimado = resultado.x[0]\n",
    "    \n",
    "    # Guardar el valor estimado de la rapidez angular en el array Omega\n",
    "    Omega[i] = omega_estimado\n",
    "\n",
    "\n"
   ]
  },
  {
   "cell_type": "code",
   "execution_count": null,
   "metadata": {},
   "outputs": [
    {
     "data": {
      "image/png": "[encoded data removed]",
      "text/plain": [
       "<Figure size 432x288 with 2 Axes>"
      ]
     },
     "metadata": {
      "needs_background": "light"
     },
     "output_type": "display_data"
    }
   ],
   "source": [
    "\n",
    "# Definir el tamaño de los bins para la distribución conjunta\n",
    "binsx = 29  # Número de bins en el eje x (omega)\n",
    "binsy = 29  # Número de bins en el eje y (gravedad)\n",
    "\n",
    "# Generar la distribución conjunta utilizando np.histogram2d\n",
    "H2, binsx, binsy = np.histogram2d(Omega, Gravedad, bins=(binsx, binsy))\n",
    "\n",
    "# Plotear la distribución conjunta\n",
    "plt.imshow(H2.T, origin='lower', aspect='auto', cmap='viridis',\n",
    "           extent=[binsx[0], binsx[-1], binsy[0], binsy[-1]])\n",
    "plt.colorbar(label='Frecuencia')\n",
    "plt.xlabel('Omega (ω)')\n",
    "plt.ylabel('Gravedad (g)')\n",
    "plt.title('Distribución Conjunta f(ω, g)')\n",
    "plt.show()"
   ]
  },
  {
   "cell_type": "code",
   "execution_count": null,
   "metadata": {},
   "outputs": [
    {
     "name": "stdout",
     "output_type": "stream",
     "text": [
      "Coeficiente de correlación de Pearson: 0.7113711978614302\n",
      "Coeficiente de correlación de Spearman: 0.6947583862042911\n"
     ]
    }
   ],
   "source": [
    "df = pd.DataFrame({'Omega': Omega, 'Gravedad': Gravedad})\n",
    "\n",
    "\n",
    "pearson_corr = df['Omega'].corr(df['Gravedad'], method='pearson')\n",
    "\n",
    "\n",
    "spearman_corr = df['Omega'].corr(df['Gravedad'], method='spearman')\n",
    "\n",
    "print(\"Coeficiente de correlación de Pearson:\", pearson_corr)\n",
    "print(\"Coeficiente de correlación de Spearman:\", spearman_corr)\n"
   ]
  },
  {
   "attachments": {},
   "cell_type": "markdown",
   "metadata": {},
   "source": [
    "Coeficiente de correlación de Pearson: 0.7650922861360933\\\n",
    "\\\n",
    "Coeficiente de correlación de Spearman: 0.7573599706663409\n",
    "\n",
    "\n",
    "por ende hay una correlación positiva fuerte"
   ]
  },
  {
   "cell_type": "code",
   "execution_count": null,
   "metadata": {},
   "outputs": [
    {
     "data": {
      "image/png": "[encoded data removed]",
      "text/plain": [
       "<Figure size 432x288 with 1 Axes>"
      ]
     },
     "metadata": {
      "needs_background": "light"
     },
     "output_type": "display_data"
    }
   ],
   "source": [
    "\n",
    "H1 = np.sum(H2, axis=1)\n",
    "\n",
    "\n",
    "plt.plot(binsx[:-1], H1)\n",
    "plt.xlabel('Omega (ω)')\n",
    "plt.ylabel('Frecuencia')\n",
    "plt.title('Distribución Marginal h(ω)')\n",
    "plt.show()\n"
   ]
  },
  {
   "cell_type": "code",
   "execution_count": null,
   "metadata": {},
   "outputs": [
    {
     "name": "stdout",
     "output_type": "stream",
     "text": [
      "Mejor estimador ˆω:  7.218013098333993e-05\n",
      "Intervalo de confianza a un sigma de desviación: [ 6.0690276148005074e-05 ,  8.49466363559342e-05 ]\n"
     ]
    }
   ],
   "source": [
    "cs = np.cumsum(H1)\n",
    "\n",
    "ij = np.searchsorted(cs, np.percentile(cs, 16))\n",
    "ii = np.searchsorted(cs, np.percentile(cs, 50))\n",
    "ji = np.searchsorted(cs, np.percentile(cs, 84))\n",
    "\n",
    "omega_lower = binsx[ij]\n",
    "omega_estimated = binsx[ii]\n",
    "omega_upper = binsx[ji]\n",
    "\n",
    "print(\"Mejor estimador ˆω: \", omega_estimated)\n",
    "print(\"Intervalo de confianza a un sigma de desviación: [\", omega_lower, \", \", omega_upper, \"]\")\n"
   ]
  },
  {
   "attachments": {},
   "cell_type": "markdown",
   "metadata": {},
   "source": [
    "Si para la latitud λ = 30 se obtuvo un mejor estimador de aproximadamente ˆω = 7.30 × 10−5 y el intervalo de confianza a 1σ es IC68% = [6.42, 8.18] × 10−5, entonces los resultados son los siguientes:\n",
    "\n",
    "Mejor estimador ˆω: 7.30 × 10−5\n",
    "Intervalo de confianza a 1σ: [6.42 × 10−5, 8.18 × 10−5]\n",
    "\n",
    "Estos valores indican que el mejor estimador para ω es 7.30 × 10−5, y existe un 68% de confianza de que el valor verdadero de ω se encuentre dentro del intervalo [6.42 × 10−5, 8.18 × 10−5]."
   ]
  },
  {
   "cell_type": "code",
   "execution_count": null,
   "metadata": {},
   "outputs": [
    {
     "name": "stdout",
     "output_type": "stream",
     "text": [
      "7.22\n",
      "6.07\n",
      "8.49\n"
     ]
    }
   ],
   "source": [
    "# lamda = 30\n",
    "omega_30 = round((omega_estimated/10**(-5)),2)\n",
    "IC_up_30 = round((omega_upper/10**(-5)),2)\n",
    "IC_lo_30 = round((omega_lower/10**(-5)),2)\n",
    "print(omega_30)\n",
    "print(IC_lo_30)\n",
    "print(IC_up_30)"
   ]
  },
  {
   "cell_type": "code",
   "execution_count": null,
   "metadata": {},
   "outputs": [],
   "source": [
    "# Todos los valores siguientes se obtuvieron de los archivos llamados P4_lamb_10 , 20, 40 , etc\n",
    "# lambda = 10 -\n",
    "omega_10 = 7.35\n",
    "IC_up_10 = 8.16\n",
    "IC_lo_10 = 6.54\n",
    "\n",
    "# lambda = 20 -\n",
    "omega_20 = 6.79\n",
    "IC_up_20 = 7.64\n",
    "IC_lo_20 = 5.95\n",
    "\n",
    "# lambda = 40 -\n",
    "omega_40 = 7.36\n",
    "IC_up_40 = 8.27\n",
    "IC_lo_40 = 6.46\n",
    "\n",
    "# lambda = 50 - \n",
    "omega_50 = 7.05\n",
    "IC_up_50 = 7.95\n",
    "IC_lo_50 = 6.16\n",
    "\n",
    "# lambda = 60\n",
    "omega_60 = 7.17\n",
    "IC_up_60 = 8.11\n",
    "IC_lo_60 = 6.23\n"
   ]
  },
  {
   "cell_type": "code",
   "execution_count": null,
   "metadata": {},
   "outputs": [
    {
     "data": {
      "text/html": [
       "<div>\n",
       "<style scoped>\n",
       "    .dataframe tbody tr th:only-of-type {\n",
       "        vertical-align: middle;\n",
       "    }\n",
       "\n",
       "    .dataframe tbody tr th {\n",
       "        vertical-align: top;\n",
       "    }\n",
       "\n",
       "    .dataframe thead th {\n",
       "        text-align: right;\n",
       "    }\n",
       "</style>\n",
       "<table border=\"1\" class=\"dataframe\">\n",
       "  <thead>\n",
       "    <tr style=\"text-align: right;\">\n",
       "      <th></th>\n",
       "      <th>λ</th>\n",
       "      <th>ω x10^-5</th>\n",
       "      <th>IC_68 x10^-5</th>\n",
       "      <th>σ+/ω</th>\n",
       "    </tr>\n",
       "  </thead>\n",
       "  <tbody>\n",
       "    <tr>\n",
       "      <th>0</th>\n",
       "      <td>10</td>\n",
       "      <td>6.38</td>\n",
       "      <td>[5.46, 7.24]</td>\n",
       "      <td>0.067</td>\n",
       "    </tr>\n",
       "    <tr>\n",
       "      <th>1</th>\n",
       "      <td>20</td>\n",
       "      <td>6.76</td>\n",
       "      <td>[5.91, 7.61]</td>\n",
       "      <td>0.066</td>\n",
       "    </tr>\n",
       "    <tr>\n",
       "      <th>2</th>\n",
       "      <td>30</td>\n",
       "      <td>7.22</td>\n",
       "      <td>[6.07, 8.49]</td>\n",
       "      <td>0.085</td>\n",
       "    </tr>\n",
       "    <tr>\n",
       "      <th>3</th>\n",
       "      <td>40</td>\n",
       "      <td>8.19</td>\n",
       "      <td>[7.23, 9.15]</td>\n",
       "      <td>0.100</td>\n",
       "    </tr>\n",
       "    <tr>\n",
       "      <th>4</th>\n",
       "      <td>50</td>\n",
       "      <td>0.00</td>\n",
       "      <td>[0, 0]</td>\n",
       "      <td>0.126</td>\n",
       "    </tr>\n",
       "    <tr>\n",
       "      <th>5</th>\n",
       "      <td>60</td>\n",
       "      <td>0.00</td>\n",
       "      <td>[0, 0]</td>\n",
       "      <td>0.150</td>\n",
       "    </tr>\n",
       "    <tr>\n",
       "      <th>6</th>\n",
       "      <td>Combined</td>\n",
       "      <td>4.76</td>\n",
       "      <td>[5.42, 4.111666666666667]</td>\n",
       "      <td>0.036</td>\n",
       "    </tr>\n",
       "  </tbody>\n",
       "</table>\n",
       "</div>"
      ],
      "text/plain": [
       "          λ  ω x10^-5               IC_68 x10^-5   σ+/ω\n",
       "0        10      6.38               [5.46, 7.24]  0.067\n",
       "1        20      6.76               [5.91, 7.61]  0.066\n",
       "2        30      7.22               [6.07, 8.49]  0.085\n",
       "3        40      8.19               [7.23, 9.15]  0.100\n",
       "4        50      0.00                     [0, 0]  0.126\n",
       "5        60      0.00                     [0, 0]  0.150\n",
       "6  Combined      4.76  [5.42, 4.111666666666667]  0.036"
      ]
     },
     "execution_count": 15,
     "metadata": {},
     "output_type": "execute_result"
    }
   ],
   "source": [
    "comb_1= round(((omega_10+omega_20+omega_30+omega_40+omega_50+omega_60)/6),2)\n",
    "comb_2= round(((IC_up_10+IC_up_20+IC_up_30+IC_up_40+IC_up_50+IC_up_60)/6),2)\n",
    "comb_3= (IC_lo_10+IC_lo_20+IC_lo_30+IC_lo_40+IC_lo_50+IC_lo_60)/6\n",
    "\n",
    "datos = [ [10, omega_10, [IC_lo_10, IC_up_10] ,0.067],\n",
    "          [20, omega_20, [IC_lo_20, IC_up_20] ,0.066],\n",
    "          [30, omega_30, [IC_lo_30, IC_up_30] ,0.085],\n",
    "          [40, omega_40, [IC_lo_40, IC_up_40] ,0.100],\n",
    "          [50, omega_50, [IC_lo_50, IC_up_50] ,0.126],\n",
    "          [60, omega_60, [IC_lo_60, IC_up_60] ,0.150],\n",
    "          [\"Combined\",comb_1,[comb_2,comb_3],0.036]]\n",
    "\n",
    "df_datos = pd.DataFrame(datos, columns=['λ', 'ω x10^-5', 'IC_68 x10^-5', 'σ+/ω'])\n",
    "\n",
    "df_datos"
   ]
  }
 ],
 "metadata": {
  "kernelspec": {
   "display_name": "env",
   "language": "python",
   "name": "python3"
  },
  "language_info": {
   "codemirror_mode": {
    "name": "ipython",
    "version": 3
   },
   "file_extension": ".py",
   "mimetype": "text/x-python",
   "name": "python",
   "nbconvert_exporter": "python",
   "pygments_lexer": "ipython3",
   "version": "3.9.7"
  },
  "orig_nbformat": 4
 },
 "nbformat": 4,
 "nbformat_minor": 2
}
