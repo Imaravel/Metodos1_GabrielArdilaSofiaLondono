{
 "cells": [
  {
   "cell_type": "code",
   "execution_count": 175,
   "metadata": {},
   "outputs": [],
   "source": [
    "import sympy as sym\n",
    "import numpy as np\n",
    "import matplotlib.pyplot as plt"
   ]
  },
  {
   "cell_type": "code",
   "execution_count": 230,
   "metadata": {},
   "outputs": [
    {
     "ename": "KeyboardInterrupt",
     "evalue": "",
     "output_type": "error",
     "traceback": [
      "\u001b[0;31m---------------------------------------------------------------------------\u001b[0m",
      "\u001b[0;31mTypeError\u001b[0m                                 Traceback (most recent call last)",
      "File \u001b[0;32m~/Desktop/Metcomp/env/lib/python3.10/site-packages/sympy/matrices/repmatrix.py:712\u001b[0m, in \u001b[0;36m_getitem_RepMatrix\u001b[0;34m(self, key)\u001b[0m\n\u001b[1;32m    711\u001b[0m \u001b[39mtry\u001b[39;00m:\n\u001b[0;32m--> 712\u001b[0m     \u001b[39mreturn\u001b[39;00m \u001b[39mself\u001b[39m\u001b[39m.\u001b[39m_rep\u001b[39m.\u001b[39mgetitem_sympy(index_(i), index_(j))\n\u001b[1;32m    713\u001b[0m \u001b[39mexcept\u001b[39;00m (\u001b[39mTypeError\u001b[39;00m, \u001b[39mIndexError\u001b[39;00m):\n",
      "\u001b[0;31mTypeError\u001b[0m: 'slice' object cannot be interpreted as an integer",
      "\nDuring handling of the above exception, another exception occurred:\n",
      "\u001b[0;31mKeyboardInterrupt\u001b[0m                         Traceback (most recent call last)",
      "Cell \u001b[0;32mIn[230], line 64\u001b[0m\n\u001b[1;32m     62\u001b[0m \u001b[39mfor\u001b[39;00m j \u001b[39min\u001b[39;00m \u001b[39mrange\u001b[39m(N):\n\u001b[1;32m     63\u001b[0m     z0 \u001b[39m=\u001b[39m d[i] \u001b[39m+\u001b[39m sym\u001b[39m.\u001b[39mI\u001b[39m*\u001b[39mr[j]\n\u001b[0;32m---> 64\u001b[0m     root \u001b[39m=\u001b[39m newton_raphson(z0, Fn, jn, \u001b[39m100\u001b[39;49m)\n\u001b[1;32m     65\u001b[0m     \u001b[39mif\u001b[39;00m \u001b[39mabs\u001b[39m(root \u001b[39m-\u001b[39m rootss[\u001b[39m0\u001b[39m]) \u001b[39m<\u001b[39m \u001b[39m1e-3\u001b[39m:\n\u001b[1;32m     66\u001b[0m         Fractal[i,j] \u001b[39m=\u001b[39m \u001b[39m20\u001b[39m\n",
      "Cell \u001b[0;32mIn[230], line 27\u001b[0m, in \u001b[0;36mnewton_raphson\u001b[0;34m(z0, Fn, Jn, max_iter)\u001b[0m\n\u001b[1;32m     25\u001b[0m F \u001b[39m=\u001b[39m Fn(sym\u001b[39m.\u001b[39mre(z), sym\u001b[39m.\u001b[39mim(z))\n\u001b[1;32m     26\u001b[0m J \u001b[39m=\u001b[39m Jn\u001b[39m.\u001b[39msubs([(x, sym\u001b[39m.\u001b[39mre(z)), (y, sym\u001b[39m.\u001b[39mim(z))])\n\u001b[0;32m---> 27\u001b[0m J_inv \u001b[39m=\u001b[39m J\u001b[39m.\u001b[39;49minv()\n\u001b[1;32m     28\u001b[0m delta_z \u001b[39m=\u001b[39m \u001b[39m-\u001b[39mJ_inv \u001b[39m@\u001b[39m sym\u001b[39m.\u001b[39mMatrix(F)\n\u001b[1;32m     29\u001b[0m z \u001b[39m+\u001b[39m\u001b[39m=\u001b[39m delta_z[\u001b[39m0\u001b[39m] \u001b[39m+\u001b[39m delta_z[\u001b[39m1\u001b[39m]\u001b[39m*\u001b[39msym\u001b[39m.\u001b[39mI\n",
      "File \u001b[0;32m~/Desktop/Metcomp/env/lib/python3.10/site-packages/sympy/matrices/matrices.py:2219\u001b[0m, in \u001b[0;36mMatrixBase.inv\u001b[0;34m(self, method, iszerofunc, try_block_diag)\u001b[0m\n\u001b[1;32m   2218\u001b[0m \u001b[39mdef\u001b[39;00m \u001b[39minv\u001b[39m(\u001b[39mself\u001b[39m, method\u001b[39m=\u001b[39m\u001b[39mNone\u001b[39;00m, iszerofunc\u001b[39m=\u001b[39m_iszero, try_block_diag\u001b[39m=\u001b[39m\u001b[39mFalse\u001b[39;00m):\n\u001b[0;32m-> 2219\u001b[0m     \u001b[39mreturn\u001b[39;00m _inv(\u001b[39mself\u001b[39;49m, method\u001b[39m=\u001b[39;49mmethod, iszerofunc\u001b[39m=\u001b[39;49miszerofunc,\n\u001b[1;32m   2220\u001b[0m             try_block_diag\u001b[39m=\u001b[39;49mtry_block_diag)\n",
      "File \u001b[0;32m~/Desktop/Metcomp/env/lib/python3.10/site-packages/sympy/matrices/inverse.py:459\u001b[0m, in \u001b[0;36m_inv\u001b[0;34m(M, method, iszerofunc, try_block_diag)\u001b[0m\n\u001b[1;32m    456\u001b[0m     \u001b[39mreturn\u001b[39;00m diag(\u001b[39m*\u001b[39mr)\n\u001b[1;32m    458\u001b[0m \u001b[39mif\u001b[39;00m method \u001b[39m==\u001b[39m \u001b[39m\"\u001b[39m\u001b[39mGE\u001b[39m\u001b[39m\"\u001b[39m:\n\u001b[0;32m--> 459\u001b[0m     rv \u001b[39m=\u001b[39m M\u001b[39m.\u001b[39;49minverse_GE(iszerofunc\u001b[39m=\u001b[39;49miszerofunc)\n\u001b[1;32m    460\u001b[0m \u001b[39melif\u001b[39;00m method \u001b[39m==\u001b[39m \u001b[39m\"\u001b[39m\u001b[39mLU\u001b[39m\u001b[39m\"\u001b[39m:\n\u001b[1;32m    461\u001b[0m     rv \u001b[39m=\u001b[39m M\u001b[39m.\u001b[39minverse_LU(iszerofunc\u001b[39m=\u001b[39miszerofunc)\n",
      "File \u001b[0;32m~/Desktop/Metcomp/env/lib/python3.10/site-packages/sympy/matrices/matrices.py:2204\u001b[0m, in \u001b[0;36mMatrixBase.inverse_GE\u001b[0;34m(self, iszerofunc)\u001b[0m\n\u001b[1;32m   2203\u001b[0m \u001b[39mdef\u001b[39;00m \u001b[39minverse_GE\u001b[39m(\u001b[39mself\u001b[39m, iszerofunc\u001b[39m=\u001b[39m_iszero):\n\u001b[0;32m-> 2204\u001b[0m     \u001b[39mreturn\u001b[39;00m _inv_GE(\u001b[39mself\u001b[39;49m, iszerofunc\u001b[39m=\u001b[39;49miszerofunc)\n",
      "File \u001b[0;32m~/Desktop/Metcomp/env/lib/python3.10/site-packages/sympy/matrices/inverse.py:247\u001b[0m, in \u001b[0;36m_inv_GE\u001b[0;34m(M, iszerofunc)\u001b[0m\n\u001b[1;32m    244\u001b[0m \u001b[39mif\u001b[39;00m \u001b[39many\u001b[39m(iszerofunc(red[j, j]) \u001b[39mfor\u001b[39;00m j \u001b[39min\u001b[39;00m \u001b[39mrange\u001b[39m(red\u001b[39m.\u001b[39mrows)):\n\u001b[1;32m    245\u001b[0m     \u001b[39mraise\u001b[39;00m NonInvertibleMatrixError(\u001b[39m\"\u001b[39m\u001b[39mMatrix det == 0; not invertible.\u001b[39m\u001b[39m\"\u001b[39m)\n\u001b[0;32m--> 247\u001b[0m \u001b[39mreturn\u001b[39;00m M\u001b[39m.\u001b[39m_new(red[:, big\u001b[39m.\u001b[39;49mrows:])\n",
      "File \u001b[0;32m~/Desktop/Metcomp/env/lib/python3.10/site-packages/sympy/matrices/repmatrix.py:233\u001b[0m, in \u001b[0;36mRepMatrix.__getitem__\u001b[0;34m(self, key)\u001b[0m\n\u001b[1;32m    232\u001b[0m \u001b[39mdef\u001b[39;00m \u001b[39m__getitem__\u001b[39m(\u001b[39mself\u001b[39m, key):\n\u001b[0;32m--> 233\u001b[0m     \u001b[39mreturn\u001b[39;00m _getitem_RepMatrix(\u001b[39mself\u001b[39;49m, key)\n",
      "File \u001b[0;32m~/Desktop/Metcomp/env/lib/python3.10/site-packages/sympy/matrices/repmatrix.py:733\u001b[0m, in \u001b[0;36m_getitem_RepMatrix\u001b[0;34m(self, key)\u001b[0m\n\u001b[1;32m    731\u001b[0m         \u001b[39melse\u001b[39;00m:\n\u001b[1;32m    732\u001b[0m             j \u001b[39m=\u001b[39m [j]\n\u001b[0;32m--> 733\u001b[0m         \u001b[39mreturn\u001b[39;00m \u001b[39mself\u001b[39;49m\u001b[39m.\u001b[39;49mextract(i, j)\n\u001b[1;32m    735\u001b[0m \u001b[39melse\u001b[39;00m:\n\u001b[1;32m    736\u001b[0m     \u001b[39m# Index/slice like a flattened list\u001b[39;00m\n\u001b[1;32m    737\u001b[0m     rows, cols \u001b[39m=\u001b[39m \u001b[39mself\u001b[39m\u001b[39m.\u001b[39mshape\n",
      "File \u001b[0;32m~/Desktop/Metcomp/env/lib/python3.10/site-packages/sympy/matrices/common.py:360\u001b[0m, in \u001b[0;36mMatrixShaping.extract\u001b[0;34m(self, rowsList, colsList)\u001b[0m\n\u001b[1;32m    312\u001b[0m \u001b[39mdef\u001b[39;00m \u001b[39mextract\u001b[39m(\u001b[39mself\u001b[39m, rowsList, colsList):\n\u001b[1;32m    313\u001b[0m \u001b[39m    \u001b[39m\u001b[39mr\u001b[39m\u001b[39m\"\"\"Return a submatrix by specifying a list of rows and columns.\u001b[39;00m\n\u001b[1;32m    314\u001b[0m \u001b[39m    Negative indices can be given. All indices must be in the range\u001b[39;00m\n\u001b[1;32m    315\u001b[0m \u001b[39m    $-n \\le i < n$ where $n$ is the number of rows or columns.\u001b[39;00m\n\u001b[0;32m   (...)\u001b[0m\n\u001b[1;32m    357\u001b[0m \u001b[39m    [9, 11]])\u001b[39;00m\n\u001b[1;32m    358\u001b[0m \u001b[39m    \"\"\"\u001b[39;00m\n\u001b[0;32m--> 360\u001b[0m     \u001b[39mif\u001b[39;00m \u001b[39mnot\u001b[39;00m is_sequence(rowsList) \u001b[39mor\u001b[39;00m \u001b[39mnot\u001b[39;00m is_sequence(colsList):\n\u001b[1;32m    361\u001b[0m         \u001b[39mraise\u001b[39;00m \u001b[39mTypeError\u001b[39;00m(\u001b[39m\"\u001b[39m\u001b[39mrowsList and colsList must be iterable\u001b[39m\u001b[39m\"\u001b[39m)\n\u001b[1;32m    362\u001b[0m     \u001b[39m# ensure rowsList and colsList are lists of integers\u001b[39;00m\n",
      "File \u001b[0;32m~/Desktop/Metcomp/env/lib/python3.10/site-packages/sympy/utilities/iterables.py:2991\u001b[0m, in \u001b[0;36mis_sequence\u001b[0;34m(i, include)\u001b[0m\n\u001b[1;32m   2956\u001b[0m \u001b[39mdef\u001b[39;00m \u001b[39mis_sequence\u001b[39m(i, include\u001b[39m=\u001b[39m\u001b[39mNone\u001b[39;00m):\n\u001b[1;32m   2957\u001b[0m \u001b[39m    \u001b[39m\u001b[39m\"\"\"\u001b[39;00m\n\u001b[1;32m   2958\u001b[0m \u001b[39m    Return a boolean indicating whether ``i`` is a sequence in the SymPy\u001b[39;00m\n\u001b[1;32m   2959\u001b[0m \u001b[39m    sense. If anything that fails the test below should be included as\u001b[39;00m\n\u001b[0;32m   (...)\u001b[0m\n\u001b[1;32m   2988\u001b[0m \n\u001b[1;32m   2989\u001b[0m \u001b[39m    \"\"\"\u001b[39;00m\n\u001b[1;32m   2990\u001b[0m     \u001b[39mreturn\u001b[39;00m (\u001b[39mhasattr\u001b[39m(i, \u001b[39m'\u001b[39m\u001b[39m__getitem__\u001b[39m\u001b[39m'\u001b[39m) \u001b[39mand\u001b[39;00m\n\u001b[0;32m-> 2991\u001b[0m             iterable(i) \u001b[39mor\u001b[39;00m\n\u001b[1;32m   2992\u001b[0m             \u001b[39mbool\u001b[39m(include) \u001b[39mand\u001b[39;00m\n\u001b[1;32m   2993\u001b[0m             \u001b[39misinstance\u001b[39m(i, include))\n",
      "File \u001b[0;32m~/Desktop/Metcomp/env/lib/python3.10/site-packages/sympy/utilities/iterables.py:2952\u001b[0m, in \u001b[0;36miterable\u001b[0;34m(i, exclude)\u001b[0m\n\u001b[1;32m   2950\u001b[0m     \u001b[39mreturn\u001b[39;00m \u001b[39mFalse\u001b[39;00m\n\u001b[1;32m   2951\u001b[0m \u001b[39mif\u001b[39;00m exclude:\n\u001b[0;32m-> 2952\u001b[0m     \u001b[39mreturn\u001b[39;00m \u001b[39mnot\u001b[39;00m \u001b[39misinstance\u001b[39;49m(i, exclude)\n\u001b[1;32m   2953\u001b[0m \u001b[39mreturn\u001b[39;00m \u001b[39mTrue\u001b[39;00m\n",
      "\u001b[0;31mKeyboardInterrupt\u001b[0m: "
     ]
    }
   ],
   "source": [
    "\n",
    "\n",
    "x, y = sym.symbols('x y', real=True)\n",
    "z1 = (-0.5 - np.sqrt(3)*sym.I/2)\n",
    "z0 = (-0.5 + np.sqrt(3)*sym.I/2)\n",
    "z = x + sym.I*y\n",
    "\n",
    "f = z**3 - 1\n",
    "\n",
    "F = [sym.re(f), sym.im(f)]\n",
    "\n",
    "dxr = sym.diff(F[0], x)\n",
    "dyr = sym.diff(F[0], y)\n",
    "dxi = sym.diff(F[1], x)\n",
    "dyi = sym.diff(F[1], y)\n",
    "\n",
    "jn = sym.Matrix([[dxr, dyr], [dxi, dyi]])\n",
    "\n",
    "Fn = sym.lambdify([x, y], F, \"numpy\")\n",
    "\n",
    "def newton_raphson(z0, Fn, Jn, max_iter):\n",
    "    z = z0\n",
    "    for i in range(max_iter):\n",
    "        F = Fn(sym.re(z), sym.im(z))\n",
    "        J = Jn.subs([(x, sym.re(z)), (y, sym.im(z))])\n",
    "        J_inv = J.inv()\n",
    "        delta_z = -J_inv @ sym.Matrix(F)\n",
    "        z += delta_z[0] + delta_z[1]*sym.I\n",
    "        if abs(F[1]-F[0]) < 1e-8:\n",
    "            return z\n",
    "    return None\n",
    "\n",
    "\n",
    "\n",
    "\n",
    "\n",
    "\n",
    "rootss = [-(1/2)+np.sqrt(3)*sym.I/2, -1, -(1/2)-np.sqrt(3)*sym.I/2]\n",
    "\n",
    "\n",
    "N = 50\n",
    "#N= 300\n",
    "d = np.linspace(-1, 1, N)\n",
    "r= np.linspace(-1, 1, N)\n",
    "\n",
    "\n",
    "\n",
    "Fractal = np.zeros((N,N), np.int64)\n",
    "\n",
    "for i in range(N):\n",
    "    for j in range(N):\n",
    "        z0 = d[i] + sym.I*r[j]\n",
    "        root = newton_raphson(z0, Fn, jn, 100)\n",
    "        if abs(root - rootss[0]) < 1e-3:\n",
    "            Fractal[i,j] = 20\n",
    "        elif abs(root - rootss[1]) < 1e-3:\n",
    "            Fractal[i,j] = 100\n",
    "        elif abs(root - rootss[2]) < 1e-3:\n",
    "            Fractal[i,j] = 255\n",
    "\n",
    "print(Fractal)\n",
    "\n",
    "plt.imshow(Fractal, cmap='coolwarm' ,extent=[-1,1,-1,1])"
   ]
  }
 ],
 "metadata": {
  "kernelspec": {
   "display_name": "env",
   "language": "python",
   "name": "python3"
  },
  "language_info": {
   "codemirror_mode": {
    "name": "ipython",
    "version": 3
   },
   "file_extension": ".py",
   "mimetype": "text/x-python",
   "name": "python",
   "nbconvert_exporter": "python",
   "pygments_lexer": "ipython3",
   "version": "3.10.8"
  },
  "orig_nbformat": 4
 },
 "nbformat": 4,
 "nbformat_minor": 2
}
