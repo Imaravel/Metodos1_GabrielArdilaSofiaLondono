{
 "cells": [
  {
   "cell_type": "code",
   "execution_count": 64,
   "metadata": {},
   "outputs": [],
   "source": [
    "import sympy as sy\n",
    "import numpy as np"
   ]
  },
  {
   "cell_type": "code",
   "execution_count": 3,
   "metadata": {},
   "outputs": [],
   "source": [
    "x=sym.Symbol(\"x\",real=True)\n",
    "h=sym.Symbol(\"h\",real=True)\n",
    "\n",
    "X=[-2*h,-1*h,0*h,1*h,2*h]"
   ]
  },
  {
   "cell_type": "code",
   "execution_count": 4,
   "metadata": {},
   "outputs": [],
   "source": [
    "def Lagrange(x,xi,j):\n",
    "    \n",
    "    prod = 1\n",
    "    n = len(xi)\n",
    "    \n",
    "    for i in range(n):\n",
    "        if i != j:\n",
    "            prod *= (x - xi[i])/(xi[j]-xi[i])\n",
    "            \n",
    "    return prod\n",
    "\n",
    "\n"
   ]
  },
  {
   "cell_type": "code",
   "execution_count": 78,
   "metadata": {},
   "outputs": [],
   "source": [
    "def GetCoefficients(x,p,X):\n",
    "    Coefficients=[]\n",
    "    for i in range(len(X)):\n",
    "        Li=Lagrange(x,X,i)\n",
    "        dLi=sym.diff(Li,x,1)\n",
    "        C=dLi.subs(x,X[p])\n",
    "        Coefficients.append(C)\n",
    "    return Coefficients"
   ]
  },
  {
   "cell_type": "code",
   "execution_count": 80,
   "metadata": {},
   "outputs": [
    {
     "data": {
      "text/plain": [
       "[1/(12*h), -2/(3*h), 0, 2/(3*h), -1/(12*h)]"
      ]
     },
     "execution_count": 80,
     "metadata": {},
     "output_type": "execute_result"
    }
   ],
   "source": [
    "GetCoefficients(x,2,X)"
   ]
  },
  {
   "cell_type": "code",
   "execution_count": 85,
   "metadata": {},
   "outputs": [
    {
     "name": "stdout",
     "output_type": "stream",
     "text": [
      "x*(-2*h + x)*(-h + x)/(24*h**4) + x*(-2*h + x)*(h + x)/(24*h**4) + x*(-h + x)*(h + x)/(24*h**4) + (-2*h + x)*(-h + x)*(h + x)/(24*h**4)\n",
      "-x*(-2*h + x)*(-h + x)/(6*h**4) - x*(-2*h + x)*(2*h + x)/(6*h**4) - x*(-h + x)*(2*h + x)/(6*h**4) - (-2*h + x)*(-h + x)*(2*h + x)/(6*h**4)\n",
      "(-2*h + x)*(-h + x)*(h + x)/(4*h**4) + (-2*h + x)*(-h + x)*(2*h + x)/(4*h**4) + (-2*h + x)*(h + x)*(2*h + x)/(4*h**4) + (-h + x)*(h + x)*(2*h + x)/(4*h**4)\n",
      "-x*(-2*h + x)*(h + x)/(6*h**4) - x*(-2*h + x)*(2*h + x)/(6*h**4) - x*(h + x)*(2*h + x)/(6*h**4) - (-2*h + x)*(h + x)*(2*h + x)/(6*h**4)\n",
      "x*(-h + x)*(h + x)/(24*h**4) + x*(-h + x)*(2*h + x)/(24*h**4) + x*(h + x)*(2*h + x)/(24*h**4) + (-h + x)*(h + x)*(2*h + x)/(24*h**4)\n"
     ]
    },
    {
     "data": {
      "text/latex": [
       "$\\displaystyle \\frac{x \\left(- h + x\\right) \\left(h + x\\right)}{24 h^{4}} + \\frac{x \\left(- h + x\\right) \\left(2 h + x\\right)}{24 h^{4}} + \\frac{x \\left(h + x\\right) \\left(2 h + x\\right)}{24 h^{4}} + \\frac{\\left(- h + x\\right) \\left(h + x\\right) \\left(2 h + x\\right)}{24 h^{4}}$"
      ],
      "text/plain": [
       "x*(-h + x)*(h + x)/(24*h**4) + x*(-h + x)*(2*h + x)/(24*h**4) + x*(h + x)*(2*h + x)/(24*h**4) + (-h + x)*(h + x)*(2*h + x)/(24*h**4)"
      ]
     },
     "execution_count": 85,
     "metadata": {},
     "output_type": "execute_result"
    }
   ],
   "source": [
    "def derivada(x,p,X):\n",
    "    for i in range(len(X)):\n",
    "        Li=Lagrange(x,X,i)\n",
    "        dLi=sym.diff(Li,x,1)\n",
    "        print(dLi)\n",
    "    return dLi\n",
    "\n",
    "\n",
    "\n",
    "derivada(x,2,X)\n"
   ]
  },
  {
   "cell_type": "markdown",
   "metadata": {},
   "source": [
    "El orden de aproximación $O(h^{k})$ asociado al polinomio de interpolación es de orden 4. Al derivar cada uno de los polinomios de aproximación (evaluados en cada uno de los puntos definidos en X) se evidencia que el error depende del paso de derivación y en las derivadas de la función evaluada en cada uno de los puntos nodales se encuentra un polinomio de grado 4 ($h^{4}$) así que $k=4$. "
   ]
  },
  {
   "cell_type": "code",
   "execution_count": null,
   "metadata": {},
   "outputs": [],
   "source": []
  }
 ],
 "metadata": {
  "kernelspec": {
   "display_name": "Python 3",
   "language": "python",
   "name": "python3"
  },
  "language_info": {
   "codemirror_mode": {
    "name": "ipython",
    "version": 3
   },
   "file_extension": ".py",
   "mimetype": "text/x-python",
   "name": "python",
   "nbconvert_exporter": "python",
   "pygments_lexer": "ipython3",
   "version": "3.8.5"
  }
 },
 "nbformat": 4,
 "nbformat_minor": 4
}
