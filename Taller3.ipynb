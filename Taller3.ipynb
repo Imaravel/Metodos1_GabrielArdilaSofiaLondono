{
 "cells": [
  {
   "attachments": {},
   "cell_type": "markdown",
   "metadata": {},
   "source": [
    "# Taller 3 - Métodos computacionales\n",
    "### Integrantes: \n",
    "    - Gabriel Ardila\n",
    "    - Olga Londoño"
   ]
  },
  {
   "cell_type": "code",
   "execution_count": 14,
   "metadata": {},
   "outputs": [],
   "source": [
    "# LIBRERIAS\n",
    "import numpy as np\n",
    "import sympy as sp\n",
    "import scipy as sc\n",
    "import matplotlib.pyplot as plt\n",
    "from mpl_toolkits.mplot3d import axes3d\n",
    "from matplotlib import rc\n",
    "import scipy as sc\n",
    "from scipy.interpolate import lagrange\n",
    "import sympy as sym\n",
    "from sympy import *\n",
    "from sympy import Symbol, N\n",
    "import urllib.request\n",
    "import pandas as pd\n",
    "import math\n",
    "from sympy import symbols, integrate, legendre, S"
   ]
  },
  {
   "attachments": {},
   "cell_type": "markdown",
   "metadata": {},
   "source": [
    "### Ejercicios: Álgebra lineal\n",
    "\n",
    "Problemas: 3,4,5,6,7,9,10,12,13,14,15\n",
    "\n",
    "\n"
   ]
  },
  {
   "cell_type": "code",
   "execution_count": 5,
   "metadata": {},
   "outputs": [
    {
     "data": {
      "text/plain": [
       "array([[ 4., -2.,  1.],\n",
       "       [20., -7., 12.],\n",
       "       [-8., 13., 21.]])"
      ]
     },
     "execution_count": 5,
     "metadata": {},
     "output_type": "execute_result"
    }
   ],
   "source": [
    "def matmul(A,B):\n",
    "    result=np.zeros((len(A),len(B[0])))\n",
    "    for i in range(len(A)):\n",
    "        for j in range(len(B[0])):\n",
    "            for k in range(len(B)):\n",
    "                result[i][j] += A[i][k] * B[k][j]\n",
    "\n",
    "    return result\n",
    "           \n",
    "\n",
    "A=[[1,0,0],[5,1,0],[-2,3,1]]\n",
    "B=[[4,-2,1],[0,3,7],[0,0,2]]\n",
    "\n",
    "matmul(A,B)\n"
   ]
  },
  {
   "attachments": {},
   "cell_type": "markdown",
   "metadata": {},
   "source": [
    "\n",
    "\n",
    "Primero, se puede definir una matriz aumentada $A'$ que incluye la matriz de coeficientes $A$ y el vector de términos independientes $\\vec{b}$:\n",
    "\n",
    "\\begin{equation*}\n",
    "A' =\n",
    "\\begin{pmatrix}\n",
    "a_{11} & a_{12} & \\cdots & a_{1n} & b_1 \\\\\n",
    "0 & a_{22} & \\cdots & a_{2n} & b_2 \\\\\n",
    "\\vdots & \\vdots & \\ddots & \\vdots & \\vdots \\\\\n",
    "0 & 0 & \\cdots & a_{nn} & b_n\n",
    "\\end{pmatrix}\n",
    "\\end{equation*}\n",
    "\n",
    "Luego, se puede comenzar por encontrar el valor de $x_n$ mediante la ecuación $a_{nn}x_n = b_n$, lo que da como resultado:\n",
    "\n",
    "\\begin{equation*}\n",
    "x_n = \\frac{b_n}{a_{nn}}\n",
    "\\end{equation*}\n",
    "\n",
    "A continuación, se puede utilizar este valor para despejar $x_{n-1}$ a partir de la ecuación $a_{n-1,n-1}x_{n-1} + a_{n-1,n}x_n = b_{n-1}$:\n",
    "\n",
    "\\begin{equation*}\n",
    "x_{n-1} = \\frac{b_{n-1} - a_{n-1,n}x_n}{a_{n-1,n-1}}\n",
    "\\end{equation*}\n",
    "\n",
    "Este proceso puede continuar hacia atrás hasta llegar al valor de $x_1$, que se puede encontrar a partir de la ecuación $a_{11}x_1 = b_1$:\n",
    "\n",
    "\\begin{equation*}\n",
    "x_1 = \\frac{b_1}{a_{11}}\n",
    "\\end{equation*}\n",
    "\n",
    "En general, la fórmula de sustitución hacia atrás se puede expresar de la siguiente manera:\n",
    "\n",
    "\\begin{equation*}\n",
    "x_i = \\frac{1}{a_{ii}} \\left( b_i - \\sum_{j=i+1}^n a_{ij} x_j \\right), \\qquad i = n, n-1, \\ldots, 1\n",
    "\\end{equation*}\n",
    "\n",
    "Esta fórmula permite encontrar los valores de la solución del sistema de ecuaciones lineales a partir de la matriz aumentada $A'$.\n",
    "\n",
    "\n",
    "\n",
    "\\begin{equation}\n",
    "x_i = \\frac{1}{a_{ii}} \\left( b_i - \\sum_{j=i+1}^{n} a_{ij}x_j \\right),\\quad i=n-1,n-2,...,1\n",
    "\\end{equation}\n",
    "\n",
    "donde $x_i$ es la solución del sistema en la i-ésima incógnita, $a_{ij}$ es el coeficiente de la i-ésima ecuación en la j-ésima incógnita y $b_i$ es el término independiente de la i-ésima ecuación. \n"
   ]
  },
  {
   "attachments": {},
   "cell_type": "markdown",
   "metadata": {},
   "source": [
    "\\begin{pmatrix}\n",
    " 3x& -y & -z & | & 1 \\\\\n",
    "-x & 3y & z & | & 3 \\\\\n",
    "2x & y & 4z & | & 7 \\\\\n",
    "\\end{pmatrix}"
   ]
  },
  {
   "cell_type": "code",
   "execution_count": 6,
   "metadata": {},
   "outputs": [
    {
     "name": "stdout",
     "output_type": "stream",
     "text": [
      "[0 1 1]\n",
      "El parámetrod e relejación que miniminza las iteraciones es:  1.0\n"
     ]
    }
   ],
   "source": [
    "A = np.array([[3, -1, -1], [-1, 3, 1], [2, 1, 4]])\n",
    "b = np.array([1, 3, 7])\n",
    "\n",
    "x0 = np.zeros_like(b)\n",
    "omega = 1.5\n",
    "\n",
    "tolerance = 1e-6\n",
    "max_iterations = 1000\n",
    "\n",
    "def SOR(A, b, x0, omega, tolerance, max_iterations):\n",
    "    x = x0.copy()\n",
    "    iter_count = 0\n",
    "    convergence = False\n",
    "    while (not convergence) and (iter_count < max_iterations):\n",
    "        iter_count += 1\n",
    "        for i in range(len(x)):\n",
    "            old_x_i = x[i]\n",
    "            x[i] = (1 - omega) * x[i] + (omega / A[i, i]) * (b[i] - np.dot(A[i, :i], x[:i]) - np.dot(A[i, i+1:], x[i+1:]))\n",
    "            if abs(x[i] - old_x_i) < tolerance:\n",
    "                convergence = True\n",
    "    return x, iter_count\n",
    "\n",
    "\n",
    "\n",
    "omegas = np.linspace(1, 2, 100)\n",
    "iter_counts = []\n",
    "answers=[]\n",
    "for omega in omegas:\n",
    "    x, iter_count = SOR(A, b, x0, omega, tolerance, max_iterations)\n",
    "    iter_counts.append(iter_count)\n",
    "    answers.append(x)\n",
    "omega_min = omegas[np.argmin(iter_counts)]\n",
    "answer_fin=answers[iter_counts.index(omega_min)]\n",
    "print(answer_fin)\n",
    "print(\"El parámetrod e relejación que miniminza las iteraciones es: \", omega_min)\n",
    "\n",
    "\n",
    "\n"
   ]
  },
  {
   "cell_type": "code",
   "execution_count": 7,
   "metadata": {},
   "outputs": [
    {
     "name": "stdout",
     "output_type": "stream",
     "text": [
      "L =  [[ 1.  0.  0.]\n",
      " [ 5.  1.  0.]\n",
      " [-2.  3.  1.]]\n",
      "U =  [[ 4. -2.  1.]\n",
      " [ 0.  3.  7.]\n",
      " [ 0.  0. -2.]]\n"
     ]
    }
   ],
   "source": [
    "\n",
    "\n",
    "A = np.array([[4, -2, 1], [20, -7, 12], [-8, 13, 17]])\n",
    "\n",
    "n = len(A)\n",
    "L = np.zeros((n, n))\n",
    "U = np.zeros((n, n))\n",
    "\n",
    "for i in range(n):\n",
    "    L[i, i] = 1\n",
    "\n",
    "U[0, :] = A[0, :]\n",
    "\n",
    "for j in range(n):\n",
    "    L[j, 0] = A[j, 0] / U[0, 0]\n",
    "    U[0, j] = A[0, j] / L[0, 0]\n",
    "\n",
    "for i in range(1, n):\n",
    "    for j in range(i, n):\n",
    "        U[i, j] = A[i, j] - np.dot(L[i, :i], U[:i, j])\n",
    "        L[j, i] = (A[j, i] - np.dot(L[j, :i], U[:i, i])) / U[i, i]\n",
    "\n",
    "\n",
    "print(\"L = \", L)\n",
    "print(\"U = \", U)\n",
    "\n",
    "\n"
   ]
  },
  {
   "cell_type": "code",
   "execution_count": 8,
   "metadata": {},
   "outputs": [
    {
     "name": "stdout",
     "output_type": "stream",
     "text": [
      "[3. 1. 6.]\n",
      "\n",
      " [[ 0.81649658  0.          0.57735027]\n",
      " [-0.40824829  0.70710678  0.57735027]\n",
      " [-0.40824829 -0.70710678  0.57735027]]\n",
      "(array([3., 6., 1.]), array([[-8.16496581e-01,  5.77350269e-01,  3.14018492e-17],\n",
      "       [ 4.08248290e-01,  5.77350269e-01, -7.07106781e-01],\n",
      "       [ 4.08248290e-01,  5.77350269e-01,  7.07106781e-01]]))\n"
     ]
    }
   ],
   "source": [
    "def jacobi_method(A, tol=1e-10, max_iter=10000):\n",
    "    n = len(A)\n",
    "    V = np.identity(n)\n",
    "    iters = 0\n",
    "    while True:\n",
    "        iters += 1\n",
    "        max_off_diag = np.max(np.abs(np.triu(A, k=1)))\n",
    "        if max_off_diag < tol or iters > max_iter:\n",
    "            break\n",
    "        for i in range(n):\n",
    "            for j in range(i + 1, n):\n",
    "                if np.abs(A[i, j]) == max_off_diag:\n",
    "                    phi = 0.5 * np.arctan2(2 * A[i, j], A[j, j] - A[i, i])\n",
    "                    c = np.cos(phi)\n",
    "                    s = np.sin(phi)\n",
    "                    G = np.identity(n)\n",
    "                    G[i, i] = c\n",
    "                    G[j, j] = c\n",
    "                    G[i, j] = s\n",
    "                    G[j, i] = -s\n",
    "                    A = G.T @ A @ G\n",
    "                    V = V @ G\n",
    "    eigen_values = np.diag(A)\n",
    "    eigen_vectors = V\n",
    "    return eigen_values, eigen_vectors\n",
    "\n",
    "A = np.array([[4, 1, 1],\n",
    "              [1, 3, 2],\n",
    "              [1, 2, 3]])\n",
    "eigen_values, eigen_vectors = jacobi_method(A)\n",
    "\n",
    "print(eigen_values)\n",
    "print(\"\\n\", eigen_vectors)\n",
    "\n",
    "\n",
    "print(np.linalg.eig(A))"
   ]
  },
  {
   "attachments": {},
   "cell_type": "markdown",
   "metadata": {},
   "source": [
    "Los valores propios son los mismo pero hay epqueñas diferencias en el resultado de los vectores propios."
   ]
  },
  {
   "cell_type": "code",
   "execution_count": 9,
   "metadata": {},
   "outputs": [
    {
     "name": "stdout",
     "output_type": "stream",
     "text": [
      "Valor propio: 1.0000000091061194\n",
      "Vector propio: [-0.40824829  0.40824829  0.81649658]\n"
     ]
    }
   ],
   "source": [
    "\n",
    "from scipy.linalg import lu_factor, lu_solve\n",
    "\n",
    "H = np.array([[1, 2, -1],\n",
    "              [1, 0, 1],\n",
    "              [4, -4, 5]])\n",
    "\n",
    "def inverse_power_method(A, tol=1e-8, max_iter=1000):\n",
    "    L, U = lu_factor(A)\n",
    "\n",
    "    x = np.ones(A.shape[0])\n",
    "    x = x / np.linalg.norm(x)\n",
    "    lamb = 0\n",
    "\n",
    "\n",
    "    for i in range(max_iter):\n",
    "        y = lu_solve(( L, U), x)\n",
    "\n",
    "        lamb_prev = lamb\n",
    "        lamb = np.dot(x, y)\n",
    "\n",
    "        x = y / np.linalg.norm(y)\n",
    "\n",
    "        if abs(lamb - lamb_prev) < tol:\n",
    "            break\n",
    "\n",
    "    return lamb, x\n",
    "\n",
    "lamb, x = inverse_power_method(H)\n",
    "print(\"Valor propio:\", lamb)\n",
    "print(\"Vector propio:\", x)\n",
    "\n",
    "\n",
    "\n"
   ]
  },
  {
   "cell_type": "code",
   "execution_count": 10,
   "metadata": {},
   "outputs": [
    {
     "name": "stdout",
     "output_type": "stream",
     "text": [
      "[[ -6.49480794  -6.50953575  -6.50953575]\n",
      " [ -9.70728049  -9.70179817  -9.69828432]\n",
      " [-57.65200304 -57.65200304 -57.66359768]]\n",
      "Jacobian with h = 0.01:\n",
      " [[ 6.          0.24740293  0.24740293]\n",
      " [ 0.37376854  9.          0.32801836]\n",
      " [-1.16820604 -1.16820604 60.        ]]\n",
      "Jacobian with h = 0.0000000149011612:\n",
      " [[ 6.          0.24740396  0.24740396]\n",
      " [ 0.37377754  9.          0.32802063]\n",
      " [-1.16820121 -1.16820121 60.        ]]\n"
     ]
    }
   ],
   "source": [
    "\n",
    "\n",
    "def jacobian(f, x0, h=1e-4):\n",
    "    \n",
    "    n = len(x0)\n",
    "    m = len(f(x0))\n",
    "    J = np.zeros((m, n))\n",
    "    \n",
    "    for i in range(n):\n",
    "        x = np.copy(x0)\n",
    "        x[i] += h\n",
    "        \n",
    "        J[:, i] = (-1/12*f(x - 2*h) + 2/3*f(x - h) - 2/3*f(x + h) + 1/12*f(x + 2*h))/h\n",
    "    \n",
    "    return J\n",
    "\n",
    "def func(x):\n",
    "    f1 = 6*x[0] - 2*np.cos(x[1]*x[2]) - 1\n",
    "    f2 = 9*x[1] + np.sqrt(x[0]**2 + np.sin(x[2]) + 1.06) + 0.9\n",
    "    f3 = 60*x[2] + 3*np.exp(-x[0]*x[1]) + 10*np.pi - 3\n",
    "    return np.array([f1, f2, f3])\n",
    "\n",
    "x = np.array([0.5, 0.5, 0.5])\n",
    "J = jacobian(func, x, h=0.01)\n",
    "print(J)\n",
    "\n",
    "\n",
    "\n",
    "def jacobian(f, x, h):\n",
    "    n = len(x)\n",
    "    J = np.zeros((n, n))\n",
    "    for i in range(n):\n",
    "        for j in range(n):\n",
    "            xplus = np.array(x)\n",
    "            xplus[j] += h\n",
    "            fplus = f(xplus)\n",
    "            xminus = np.array(x)\n",
    "            xminus[j] -= h\n",
    "            fminus = f(xminus)\n",
    "            J[i, j] = (fplus[i] - fminus[i]) / (2*h)\n",
    "    return J\n",
    "\n",
    "def f(x):\n",
    "    f1 = 6*x[0] - 2*np.cos(x[1]*x[2]) - 1\n",
    "    f2 = 9*x[1] + np.sqrt(x[0]**2 + np.sin(x[2]) + 1.06) + 0.9\n",
    "    f3 = 60*x[2] + 3*np.exp(-x[0]*x[1]) + 10*np.pi - 3\n",
    "    return np.array([f1, f2, f3])\n",
    "\n",
    "x = np.array([0.5, 0.5, 0.5])\n",
    "h1 = 0.01\n",
    "J1 = jacobian(f, x, h1)\n",
    "print(\"Jacobian with h = 0.01:\\n\", J1)\n",
    "\n",
    "h2 = np.sqrt(np.finfo(float).eps)\n",
    "J2 = jacobian(f, x, h2)\n",
    "print(\"Jacobian with h = {:.16f}:\\n\".format(h2), J2)\n"
   ]
  },
  {
   "cell_type": "code",
   "execution_count": 11,
   "metadata": {},
   "outputs": [
    {
     "name": "stdout",
     "output_type": "stream",
     "text": [
      "True True True\n"
     ]
    }
   ],
   "source": [
    "\n",
    "J1 = np.array([[0, 0, 0], [0, 0, -1], [0, 1, 0]])\n",
    "J2 = np.array([[0, 0, 1], [0, 0, 0], [-1, 0, 0]])\n",
    "J3 = np.array([[0, -1, 0], [1, 0, 0], [0, 0, 0]])\n",
    "\n",
    "for i in range(3):\n",
    "    for j in range(i+1, 3):\n",
    "        commutator = np.dot(J1, J2) - np.dot(J2, J1)\n",
    "        x= np.allclose(commutator, J3)\n",
    "\n",
    "        commutator = np.dot(J2, J3) - np.dot(J3, J2)\n",
    "        y= np.allclose(commutator, J1)\n",
    "\n",
    "        commutator = np.dot(J3, J1) - np.dot(J1, J3)\n",
    "        z= np.allclose(commutator, J2)\n",
    "\n",
    "print(x,y,z)\n",
    "\n"
   ]
  },
  {
   "cell_type": "code",
   "execution_count": 12,
   "metadata": {},
   "outputs": [
    {
     "name": "stdout",
     "output_type": "stream",
     "text": [
      "Matrix([[2*I, 0], [0, -2*I]])\n"
     ]
    }
   ],
   "source": [
    "sigma1 = sp.Matrix([[0, 1], [1, 0]])\n",
    "sigma2 = sp.Matrix([[0, -sp.I], [sp.I, 0]])\n",
    "sigma3 = sp.Matrix([[1, 0], [0, -1]])\n",
    "\n",
    "commutator = sigma1 * sigma2 - sigma2 * sigma1\n",
    "\n",
    "print(commutator)"
   ]
  },
  {
   "attachments": {},
   "cell_type": "markdown",
   "metadata": {},
   "source": [
    "El resultado es Matrix([[2*I, 0], [0, -2*I]]) lo que puede simplificarse a 2 * sp.I * sigma3 lo que cumple la relación [σi, σj] = 2i pertenece a ijk σk"
   ]
  },
  {
   "cell_type": "code",
   "execution_count": 13,
   "metadata": {},
   "outputs": [
    {
     "name": "stdout",
     "output_type": "stream",
     "text": [
      "True\n"
     ]
    }
   ],
   "source": [
    "import sympy as sp\n",
    "eta = sp.diag(1, -1, -1, -1)\n",
    "gamma0 = sp.Matrix([[1, 0, 0, 0], [0, 1, 0, 0], [0, 0, -1, 0], [0, 0, 0, -1]])\n",
    "gamma1 = sp.Matrix([[0, 0, 0, 1], [0, 0, 1, 0], [0, -1, 0, 0], [-1, 0, 0, 0]])\n",
    "gamma2 = sp.Matrix([[0, 0, 0, -sp.I], [0, 0, sp.I, 0], [0, sp.I, 0, 0], [-sp.I, 0, 0, 0]])\n",
    "gamma3 = sp.Matrix([[0, 0, 1, 0], [0, 0, 0, -1], [-1, 0, 0, 0], [0, 1, 0, 0]])\n",
    "def anticommutator(a, b):\n",
    "    return a * b + b * a\n",
    "def anticommutator_gamma(mu, nu):\n",
    "    return anticommutator(globals()[\"gamma\" + str(mu)], globals()[\"gamma\" + str(nu)])\n",
    "for mu in range(4):\n",
    "    for nu in range(mu):\n",
    "        x= anticommutator_gamma(mu, nu) == 2 * eta[mu, nu] * sp.eye(4)\n",
    "\n",
    "print(x)"
   ]
  },
  {
   "attachments": {},
   "cell_type": "markdown",
   "metadata": {},
   "source": [
    "### Ejercicios: Mínimos Cuadrados\n",
    "\n",
    "Problemas: 1,6,7"
   ]
  },
  {
   "cell_type": "code",
   "execution_count": 16,
   "metadata": {},
   "outputs": [
    {
     "data": {
      "image/png": "[encoded data removed]",
      "text/plain": [
       "<Figure size 432x288 with 1 Axes>"
      ]
     },
     "metadata": {
      "needs_background": "light"
     },
     "output_type": "display_data"
    }
   ],
   "source": [
    "# (1)\n",
    "def f_1(x):\n",
    "    return (2*x)-2\n",
    "\n",
    "def f_2(x):\n",
    "    return ((-1/2)*x)+(1/2)\n",
    "\n",
    "def f_3(x):\n",
    "    return (-x)+4\n",
    "    \n",
    "A = np.array([[2, -1], [1, 2], [1, 1]])\n",
    "B = np.array([[2], [1], [4]])\n",
    "A_pinv = np.linalg.pinv(A)\n",
    "vector_x = A_pinv@B\n",
    "\n",
    "\n",
    "x = np.arange(-5, 5)\n",
    "\n",
    "y1 = 2*x - 2\n",
    "y2 = (1 - x) / 2\n",
    "y3 = 4 - x\n",
    "\n",
    "plt.plot(x, y1, label='2x - y = 2')\n",
    "plt.plot(x, y2, label='x + 2y = 1')\n",
    "plt.plot(x, y3, label='x + y = 4')\n",
    "plt.title(\"Solución mínimos cuadrados\")\n",
    "plt.scatter(vector_x[0], vector_x[1], color='red', label='Punto común')\n",
    "plt.legend()\n",
    "plt.grid()\n",
    "plt.show()\n",
    "\n",
    "\n",
    "\n",
    "def encontrar_minimo_cuadrado():\n",
    "    menor = 10\n",
    "    X = np.linspace(-5,5,500)\n",
    "    Y = np.linspace(-5,5,500)\n",
    "    for x in X:\n",
    "        for y in Y:\n",
    "            y_1 = f_1(x)\n",
    "            y_2 = f_2(x)\n",
    "            y_3 = f_3(x)\n",
    "            menor_1 = (y_1-y)**2 + (y_2-y)**2 + (y_3-y)**2\n",
    "            print(menor_1,x,y)\n",
    "            \n",
    "            if menor_1 < menor:\n",
    "                menor = menor_1\n",
    "                x_fin = x\n",
    "                y_fin = y\n",
    "    return x_fin,y_fin\n",
    "            "
   ]
  },
  {
   "cell_type": "code",
   "execution_count": null,
   "metadata": {},
   "outputs": [],
   "source": [
    "# (6) en pdf"
   ]
  },
  {
   "cell_type": "code",
   "execution_count": null,
   "metadata": {},
   "outputs": [],
   "source": [
    "# (7)"
   ]
  }
 ],
 "metadata": {
  "kernelspec": {
   "display_name": "Python 3.10.8 64-bit",
   "language": "python",
   "name": "python3"
  },
  "language_info": {
   "codemirror_mode": {
    "name": "ipython",
    "version": 3
   },
   "file_extension": ".py",
   "mimetype": "text/x-python",
   "name": "python",
   "nbconvert_exporter": "python",
   "pygments_lexer": "ipython3",
   "version": "3.9.7"
  },
  "orig_nbformat": 4,
  "vscode": {
   "interpreter": {
    "hash": "aee8b7b246df8f9039afb4144a1f6fd8d2ca17a180786b69acc140d282b71a49"
   }
  }
 },
 "nbformat": 4,
 "nbformat_minor": 2
}
